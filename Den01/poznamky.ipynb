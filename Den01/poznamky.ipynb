{
 "cells": [
  {
   "cell_type": "markdown",
   "metadata": {
    "id": "xZoN5ZiSPCFs"
   },
   "source": [
    "# Datové typy\n",
    "\n",
    "## Primitivní typy: `int`, `float`, `str`, `bool`\n",
    "\n",
    "**Otázky:**\n",
    "- Jaký je rozdíl mezi `int` a `float`?\n",
    "- Jak poznáš, že hodnota je typu `str`?\n",
    "- Co znamenají hodnoty `True` a `False`?\n",
    "- Jak se vyhodnotí výrazy typu `5 > 3` nebo `4 == 4`?"
   ]
  },
  {
   "cell_type": "markdown",
   "metadata": {
    "id": "xZoN5ZiSPCFs"
   },
   "source": [
    "## Kontejnery: `list`, `dict`\n",
    "\n",
    "**Otázky:**\n",
    "- Co je seznam (`list`) a jak se používá?\n",
    "- Co je slovník (`dict`) a k čemu slouží?\n",
    "- Jak se přistupuje k položkám v seznamu nebo slovníku?\n",
    "- Jaký je rozdíl mezi indexem a klíčem?"
   ]
  },
  {
   "cell_type": "markdown",
   "metadata": {
    "id": "xZoN5ZiSPCFs"
   },
   "source": [
    "# Podmínky a smyčky\n",
    "\n",
    "## `if`, `elif`, `else`\n",
    "\n",
    "**Otázky:**\n",
    "- K čemu slouží podmínky?\n",
    "- Co se stane, když podmínka není splněna?\n",
    "- V jakém pořadí se testují podmínky?\n",
    "- Co znamená `elif`?"
   ]
  },
  {
   "cell_type": "markdown",
   "metadata": {
    "id": "xZoN5ZiSPCFs"
   },
   "source": [
    "## `for` smyčka\n",
    "\n",
    "**Otázky:**\n",
    "- Jaký je rozdíl mezi `for` a `while`?\n",
    "- Jak se použije `for` k procházení seznamu?\n",
    "- Jak se opakuje určitý počet kroků?"
   ]
  },
  {
   "cell_type": "markdown",
   "metadata": {
    "id": "xZoN5ZiSPCFs"
   },
   "source": [
    "## `while` smyčka\n",
    "\n",
    "**Otázky:**\n",
    "- Kdy se použije `while` místo `for`?\n",
    "- Jak se pozná, že je potřeba smyčku zastavit?\n",
    "- Co se stane, když se podmínka nikdy nezmění?"
   ]
  },
  {
   "cell_type": "markdown",
   "metadata": {
    "id": "xZoN5ZiSPCFs"
   },
   "source": [
    "# Vstup, výstup a náhodnost\n",
    "\n",
    "## Vstup a výstup\n",
    "\n",
    "**Otázky:**\n",
    "- Jak získáš vstup od uživatele?\n",
    "- Jak zobrazíš výstup na obrazovku?\n",
    "- Co znamená, že `input()` vrací vždy řetězec?"
   ]
  },
  {
   "cell_type": "markdown",
   "metadata": {
    "id": "xZoN5ZiSPCFs"
   },
   "source": [
    "## Náhodná čísla\n",
    "\n",
    "**Otázky:**\n",
    "- K čemu se používají náhodná čísla?\n",
    "- Jak vygeneruješ náhodné číslo v určitém rozsahu?\n",
    "- Proč by program měl občas dělat věci náhodně?"
   ]
  },
  {
   "cell_type": "markdown",
   "metadata": {
    "id": "xZoN5ZiSPCFs"
   },
   "source": [
    "# Funkce\n",
    "\n",
    "**Otázky:**\n",
    "- Co je funkce a k čemu slouží?\n",
    "- Jaký je rozdíl mezi definicí a voláním funkce?\n",
    "- Co znamená `return`?\n",
    "- Jak funkci předáváš vstupy?"
   ]
  },
  {
   "cell_type": "markdown",
   "metadata": {
    "id": "xZoN5ZiSPCFs"
   },
   "source": [
    "# Třídy (základy)\n",
    "\n",
    "**Otázky:**\n",
    "- Co popisuje třída?\n",
    "- Jak se vytváří nová \"věc\" podle třídy?\n",
    "- Co je `self` a proč se používá?\n",
    "- Jak může mít každá věc (objekt) svoje vlastní údaje a chování?"
   ]
  },
  {
   "cell_type": "code",
   "execution_count": null,
   "metadata": {},
   "outputs": [],
   "source": []
  }
 ],
 "metadata": {
  "colab": {
   "provenance": []
  },
  "kernelspec": {
   "display_name": "Python 3 (ipykernel)",
   "language": "python",
   "name": "python3"
  },
  "language_info": {
   "codemirror_mode": {
    "name": "ipython",
    "version": 3
   },
   "file_extension": ".py",
   "mimetype": "text/x-python",
   "name": "python",
   "nbconvert_exporter": "python",
   "pygments_lexer": "ipython3",
   "version": "3.10.11"
  }
 },
 "nbformat": 4,
 "nbformat_minor": 4
}
