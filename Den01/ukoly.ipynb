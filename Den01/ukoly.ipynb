{
 "cells": [
  {
   "cell_type": "markdown",
   "metadata": {
    "id": "I-XqM-uPLq_U"
   },
   "source": [
    "# Úlohy\n",
    "\n",
    "## Výpočet ceny jízdenky\n",
    "\n",
    "### Vstupy:\n",
    "- `vek` – věk cestujícího (např. 30)\n",
    "- `student` – je student? (`True` nebo `False`)\n",
    "- `duchodce` – je důchodce? (`True` nebo `False`)\n",
    "- `ztp` – je držitel průkazu ZTP? (`True` nebo `False`)\n",
    "- `vzdalenost` – vzdálenost v kilometrech (např. 120)\n",
    "- `typ_spoje` – typ spoje (`\"osobni\"`, `\"rychlik\"`, `\"expres\"`)\n",
    "\n",
    "---\n",
    "\n",
    "### Pravidla:\n",
    "\n",
    "#### 1. Základní cena jízdenky:\n",
    "Podle typu spoje:\n",
    "- `osobni` → 1.50 Kč/km  \n",
    "- `rychlik` → 2.00 Kč/km  \n",
    "- `expres` → 2.50 Kč/km  \n",
    "\n",
    "#### 2. Slevy:\n",
    "Sleva se počítá ze základní ceny:\n",
    "\n",
    "| Podmínka                          | Sleva     |\n",
    "|----------------------------------|-----------|\n",
    "| Věk < 6                          | 100 %     |\n",
    "| Držitel ZTP                      | 100 %     |\n",
    "| Věk < 15                         | 50 %      |\n",
    "| Student do 26 let                | 25 %      |\n",
    "| Důchodce nebo věk ≥ 65           | 50 %      |\n",
    "\n",
    "#### 3. Výběr slevy:\n",
    "- Pokud platí více slev, použije se ta **největší**.\n",
    "- Sleva se aplikuje pouze jednou.\n",
    "\n",
    "---\n",
    "\n",
    "### Příklady:\n",
    "\n",
    "- **Pokud** `vek < 6` → cena = 0 Kč  \n",
    "- **Jinak pokud** `ztp == True` → cena = 0 Kč  \n",
    "- **Jinak pokud** `vek < 15` → sleva = 50 %  \n",
    "- **Jinak pokud** `student == True` a `vek <= 26` → sleva = 25 %  \n",
    "- **Jinak pokud** `duchodce == True` nebo `vek >= 65` → sleva = 50 %  \n",
    "- **Jinak** → žádná sleva, platí plná cena."
   ]
  },
  {
   "cell_type": "code",
   "execution_count": 1,
   "metadata": {
    "colab": {
     "base_uri": "https://localhost:8080/"
    },
    "id": "qQ-8V6PmNhXh",
    "outputId": "38599b47-19f1-4f17-c22c-91b5fcbe9987"
   },
   "outputs": [],
   "source": [
    "# Vaše řešení"
   ]
  },
  {
   "cell_type": "markdown",
   "metadata": {
    "id": "h7Ca-h7LNOBw"
   },
   "source": [
    "## Chytrý protivník na kámen-nůžky-papír\n",
    "\n",
    "\n",
    "V tomto úkolu naprogramuješ **učícího se protivníka**, který bude hrát hru **Kámen–Nůžky–Papír** proti tobě. Na rozdíl od náhodného chování se tvůj algoritmus bude **učit podle toho, co obvykle hraješ**.\n",
    "\n",
    "---\n",
    "\n",
    "### Cíl programu:\n",
    "Vytvoř program, který:\n",
    "- umožní hráči zadávat tahy (`kamen`, `nuzky`, `papir`)\n",
    "- rozhodne, kdo vyhrál (hráč nebo počítač)\n",
    "- **učí se z historie tahů hráče** a podle toho volí tahy tak, aby ho co nejčastěji porazil\n",
    "- opakuje hru, dokud hráč nenapíše `\"konec\"`\n",
    "\n",
    "---\n",
    "\n",
    "### Požadavky na program:\n",
    "\n",
    "1. **Zpracuj vstup** od uživatele:\n",
    "   - hráč může zadat `kamen`, `nuzky`, `papir`, nebo `konec`\n",
    "   - pokud zadá neplatný vstup, vypiš upozornění\n",
    "\n",
    "2. **Vytvoď jednoduché rozhodovací pravidlo**, které vybere tah počítače podle **dosavadní historie hráče**:\n",
    "   - například: pokud hráč nejčastěji hraje `kamen`, počítač by měl zvolit `papir`, protože ten ho porazí\n",
    "\n",
    "3. **Zobraz výsledek kola**:\n",
    "   - vypiš tah hráče a počítače\n",
    "   - napiš, kdo vyhrál (`Vyhrál hráč`, `Vyhrál počítač`, `Remíza`)\n",
    "\n",
    "4. **Umožni více herních kol**, dokud hráč nezadá `\"konec\"`\n",
    "\n",
    "---\n",
    "\n",
    "### Tipy:\n",
    "\n",
    "- Můžeš si pamatovat historii tahů hráče pomocí slovníku:\n",
    "\n",
    "  `historie = {\"kamen\": 0, \"nuzky\": 0, \"papir\": 0}`"
   ]
  },
  {
   "cell_type": "code",
   "execution_count": 2,
   "metadata": {},
   "outputs": [],
   "source": [
    "# Vaše řešení"
   ]
  },
  {
   "cell_type": "markdown",
   "metadata": {
    "id": "qHNT_piqXg1T"
   },
   "source": [
    "# Obchodní cestující\n",
    "\n",
    "Představ si, že máš seznam měst, která musíš navštívit a vrátit se zpět do města kde jsi začal.\n",
    "\n",
    "1. Vyzkoušej náhodné pořadí návštěv a zapamatuj si to nejlepší, co jsi zatím našel. Opakuj to třeba 100×.\n",
    "2. Prohledej všechny možné trasy\n",
    "3. K zamyšlení - šlo by to udělat chytřeji?"
   ]
  },
  {
   "cell_type": "code",
   "execution_count": 3,
   "metadata": {
    "colab": {
     "base_uri": "https://localhost:8080/"
    },
    "id": "sZC08AmWXv1i",
    "outputId": "699eba8a-e25f-4055-a5de-39e6b9f6d013"
   },
   "outputs": [],
   "source": [
    "# Vaše řešení"
   ]
  },
  {
   "cell_type": "code",
   "execution_count": null,
   "metadata": {},
   "outputs": [],
   "source": []
  }
 ],
 "metadata": {
  "colab": {
   "provenance": []
  },
  "kernelspec": {
   "display_name": "Python 3 (ipykernel)",
   "language": "python",
   "name": "python3"
  },
  "language_info": {
   "codemirror_mode": {
    "name": "ipython",
    "version": 3
   },
   "file_extension": ".py",
   "mimetype": "text/x-python",
   "name": "python",
   "nbconvert_exporter": "python",
   "pygments_lexer": "ipython3",
   "version": "3.10.11"
  }
 },
 "nbformat": 4,
 "nbformat_minor": 4
}
