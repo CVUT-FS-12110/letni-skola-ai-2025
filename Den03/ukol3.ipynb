{
 "cells": [
  {
   "cell_type": "markdown",
   "id": "fff6c581",
   "metadata": {},
   "source": [
    "# Úloha 3 - vlastní klasifikátor\n",
    "\n",
    "Naším úkolem je natrénovat předtreénovaný klasifikátor (z webu [teachablemachine](https://teachablemachine.withgoogle.com/train)), který je schopen z obrázku rozeznat, jaké ovoce se na fotce nachází.\n",
    "\n",
    "---\n",
    "\n",
    "1. nasbíráme sady obrázků (alespoň dvě sady, například pomeranče a banány)\n",
    "1. nátrénujeme model na https://teachablemachine.withgoogle.com/train\n",
    "1. model exportujeme jako `tensorflow` model\n",
    "1. nasbíráme testovací sadu obrázků\n",
    "1. model pomocí python scriptu vyhodnotíme"
   ]
  },
  {
   "cell_type": "code",
   "execution_count": null,
   "id": "78ebb8d6",
   "metadata": {
    "vscode": {
     "languageId": "plaintext"
    }
   },
   "outputs": [],
   "source": []
  }
 ],
 "metadata": {
  "language_info": {
   "name": "python"
  }
 },
 "nbformat": 4,
 "nbformat_minor": 5
}
