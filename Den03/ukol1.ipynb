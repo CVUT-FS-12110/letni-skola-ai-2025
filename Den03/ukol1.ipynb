{
 "cells": [
  {
   "cell_type": "markdown",
   "id": "a45fb761",
   "metadata": {},
   "source": [
    "## Úloha 1 - Porovnávání šablon\n",
    "\n",
    "V této úloze budeme řešit problémy s hledáním šablony v obrázku."
   ]
  },
  {
   "cell_type": "markdown",
   "id": "f268fd89",
   "metadata": {},
   "source": [
    "## Import knihoven"
   ]
  },
  {
   "cell_type": "code",
   "execution_count": null,
   "id": "6ceab44b",
   "metadata": {},
   "outputs": [],
   "source": []
  },
  {
   "cell_type": "markdown",
   "id": "a0321d01",
   "metadata": {},
   "source": [
    "## Binární obrázek\n",
    "\n",
    "1. vytvoříme obrázek křížku (naše šablona), pixely mohou být pouze 0 nebo 1, šablona bude 5x5 pixelů\n",
    "1. vytvoříme obrázek 100 x 100 pixelů, na 3 místa umístímě naši šablonu, tak aby se nepřekrývala\n",
    "1. napíšeme funkci, která nám vrátí souřadnice všech křížků"
   ]
  },
  {
   "cell_type": "code",
   "execution_count": null,
   "id": "af6ab3f6",
   "metadata": {},
   "outputs": [],
   "source": []
  },
  {
   "cell_type": "markdown",
   "id": "4e9b7ca2",
   "metadata": {},
   "source": [
    "## Stupně šedi\n",
    "\n",
    "Co se změní, když pixely budou nabývat hodnot 0 až 1? Diskuze:\n",
    "1. vzdálenost\n",
    "1. prahování\n",
    "\n",
    "Po diskuzi upravte funkci, aby zvládla stupně šedi."
   ]
  },
  {
   "cell_type": "code",
   "execution_count": null,
   "id": "5d42f3fe",
   "metadata": {},
   "outputs": [],
   "source": []
  },
  {
   "cell_type": "markdown",
   "id": "890f43fa",
   "metadata": {},
   "source": [
    "## Speciální šablony\n",
    "\n",
    "1. detekce hrany v jednom směru\n",
    "1. ukázka v `opencv`"
   ]
  },
  {
   "cell_type": "code",
   "execution_count": null,
   "id": "1aebd094",
   "metadata": {},
   "outputs": [],
   "source": []
  }
 ],
 "metadata": {
  "language_info": {
   "name": "python"
  }
 },
 "nbformat": 4,
 "nbformat_minor": 5
}
