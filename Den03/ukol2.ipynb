{
 "cells": [
  {
   "cell_type": "markdown",
   "id": "a45fb761",
   "metadata": {},
   "source": [
    "## Úloha 2 - chytrý instagramový filtr\n",
    "\n",
    "Naším úkolem je naprogramovat chytrý instagramový filtr, který umístí nad obličeje korunku, například takto:\n",
    "\n",
    "![Actress Filter](./data/actress_result.png)\n",
    "\n",
    "Filtr pro nás bude representován funkcí, jejíž vstupem bude originální barevný obrázek (levo) a výstupem bude stejně velký barevný obrázek, kde bude posazena nad každým obličejem korunka."
   ]
  },
  {
   "cell_type": "markdown",
   "id": "bc4883ca",
   "metadata": {},
   "source": [
    "## Rozdělení na podúlohy\n",
    "\n",
    "Pokud pracujeme na komplexní úloze, hodí se vždy ji rozdělit do několika jednodušších kroků, případně nejdřív vytvořit jednoduší verzi řešení a postupně složitost zvyšovat. My budeme postupovat tak, že vyřešíme nejdříve následující podúlohy:\n",
    "\n",
    "1. nahrajeme obrázek obličeje do proměnné, vykreslíme ho a převedeme z barevného do stupní šedi,\n",
    "1. použijeme předpřipravený klasifikátor na černobílý obrázek a nalezneme souřadnice tváří v obrázku\n",
    "1. na základě souřadnic:\n",
    "    1. zakreslíme do kopie původního obrázku obdelník kolem obličeje\n",
    "    1. vymažeme z kopie původního obrázku obličej\n",
    "1. nahrajeme obrázek korunky (pozor na transparentní pozadí) a velikost korunky přizpůsobíme velikosti obličeje\n",
    "1. upravenou korunku umístíme do kopie původního obrázku nad obličej\n",
    "1. implementujeme funkci, která provede všechny kroky a vrátí výsledný obrázek"
   ]
  },
  {
   "cell_type": "markdown",
   "id": "f268fd89",
   "metadata": {},
   "source": [
    "## Import knihoven"
   ]
  },
  {
   "cell_type": "code",
   "execution_count": null,
   "id": "6ceab44b",
   "metadata": {},
   "outputs": [],
   "source": []
  },
  {
   "cell_type": "markdown",
   "id": "a0321d01",
   "metadata": {},
   "source": [
    "## Nahrání obrázku, převod do stupňů šedi a zobrazení"
   ]
  },
  {
   "cell_type": "code",
   "execution_count": null,
   "id": "af6ab3f6",
   "metadata": {},
   "outputs": [],
   "source": []
  },
  {
   "cell_type": "markdown",
   "id": "4e9b7ca2",
   "metadata": {},
   "source": [
    "## Načtení a použití klasifikátoru"
   ]
  },
  {
   "cell_type": "code",
   "execution_count": null,
   "id": "5d42f3fe",
   "metadata": {},
   "outputs": [],
   "source": []
  },
  {
   "cell_type": "markdown",
   "id": "890f43fa",
   "metadata": {},
   "source": [
    "## Obdelník kolem obličeje"
   ]
  },
  {
   "cell_type": "code",
   "execution_count": null,
   "id": "1aebd094",
   "metadata": {},
   "outputs": [],
   "source": []
  },
  {
   "cell_type": "markdown",
   "id": "b5dbeefb",
   "metadata": {},
   "source": [
    "## Vymazání obličeje"
   ]
  },
  {
   "cell_type": "code",
   "execution_count": null,
   "id": "5abdee72",
   "metadata": {},
   "outputs": [],
   "source": []
  },
  {
   "cell_type": "markdown",
   "id": "12f7b984",
   "metadata": {},
   "source": [
    "## Nahrání a upravení velikosti korunky"
   ]
  },
  {
   "cell_type": "code",
   "execution_count": null,
   "id": "8e4595ea",
   "metadata": {},
   "outputs": [],
   "source": []
  },
  {
   "cell_type": "markdown",
   "id": "5c04b5ed",
   "metadata": {},
   "source": [
    "## Přidání korunky do obrázku"
   ]
  },
  {
   "cell_type": "code",
   "execution_count": null,
   "id": "d4e3150c",
   "metadata": {},
   "outputs": [],
   "source": []
  },
  {
   "cell_type": "markdown",
   "id": "d770851e",
   "metadata": {},
   "source": [
    "## Implementace funkce"
   ]
  },
  {
   "cell_type": "code",
   "execution_count": null,
   "id": "fda7749b",
   "metadata": {},
   "outputs": [],
   "source": []
  }
 ],
 "metadata": {
  "language_info": {
   "name": "python"
  }
 },
 "nbformat": 4,
 "nbformat_minor": 5
}
