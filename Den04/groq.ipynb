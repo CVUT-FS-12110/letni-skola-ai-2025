{
 "cells": [
  {
   "metadata": {},
   "cell_type": "markdown",
   "source": [
    "# Groq API\n",
    "\n",
    "Groq API poskytuje přístup k různým jazykovým modelům. V tomto průvodci se naučíme, jak používat Groq API k interakci s těmito modely.\n",
    "\n",
    "## Získání tokenu\n",
    "\n",
    "Nejprve se musíte zaregistrovat na [Groq](https://groq.com/) a získat svůj API klíč. Po registraci přejděte do sekce `API Keys` a vygenerujte si nový klíč.\n",
    "\n",
    "Klíč by měl vypadat přibližně takto: `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`.\n",
    "\n",
    "## Nastavení\n",
    "\n",
    "Nejprve musíme nainstalovat knihovnu groq, která nám usnadní komunikaci s API.\n",
    "\n",
    "`pip install groq`"
   ],
   "id": "5cbab1ad6a3e7384"
  },
  {
   "cell_type": "code",
   "id": "initial_id",
   "metadata": {
    "collapsed": true,
    "ExecuteTime": {
     "end_time": "2025-08-05T17:04:03.620912Z",
     "start_time": "2025-08-05T17:04:02.684464Z"
    }
   },
   "source": [
    "import os\n",
    "from groq import Groq\n",
    "\n",
    "# Zde si musíte vygenerovat svůj vlastní API klíč z Groq konzole.\n",
    "# Nahraďte 'vlozte_vas_api_klíč_zde' svým klíčem.\n",
    "# Je dobré ho uložit jako proměnnou prostředí, aby nebyl viditelný v kódu.\n",
    "api_key = os.environ.get(\"GROQ_API_KEY\", \"vas tokne zde\")\n",
    "\n",
    "client = Groq(api_key=api_key)"
   ],
   "outputs": [],
   "execution_count": 2
  },
  {
   "metadata": {
    "ExecuteTime": {
     "end_time": "2025-08-05T17:04:04.263501Z",
     "start_time": "2025-08-05T17:04:03.633359Z"
    }
   },
   "cell_type": "code",
   "source": [
    "print(\"--- Posílám dotaz do Groq API ---\")\n",
    "\n",
    "# Definujeme kontext, který modelu pomůže pochopit, jak má odpovídat.\n",
    "context = \"Jsi jazykový model, který umí generovat texty a odpovídat na otázky. Tvé odpovědi by měly být jednoduché a srozumitelné. Odpovídej v češtině.\"\n",
    "\n",
    "# Vytvoříme jednoduchou zprávu, kterou odešleme modelu.\n",
    "user_message = \"V jedné větě mi vysvětli, co je to Groq API a k čemu slouží.\"\n",
    "\n",
    "try:\n",
    "    # Klienta požádáme o dokončení chatu.\n",
    "    completion = client.chat.completions.create(\n",
    "        model=\"llama3-8b-8192\",\n",
    "        messages=[\n",
    "            {\n",
    "                \"role\": \"system\",\n",
    "                \"content\": context,\n",
    "            },\n",
    "            {\n",
    "                \"role\": \"user\",\n",
    "                \"content\": user_message,\n",
    "            }\n",
    "        ],\n",
    "        temperature=0.5,  # Nastavuje náhodnost odpovědí. Nižší hodnoty znamenají konzistentnější odpovědi. Ovlivňuje kreativitu a variabilitu odpovědí.\n",
    "        max_tokens=500,  # Maximální počet tokenů v odpovědi. Tokeny jsou slova nebo části slov. Ovlivňuje délku odpovědi.\n",
    "    )\n",
    "\n",
    "    # Zpracujeme a vytiskneme odpověď.\n",
    "    if completion.choices and completion.choices[0].message:\n",
    "        print(\"Model odpověděl:\")\n",
    "        print(completion.choices[0].message.content)\n",
    "    else:\n",
    "        print(\"Nepodařilo se získat platnou odpověď.\")\n",
    "        \n",
    "except Exception as e:\n",
    "    print(f\"Došlo k chybě při volání API: {e}\")\n"
   ],
   "id": "f8ec55655c8c8ce8",
   "outputs": [
    {
     "name": "stdout",
     "output_type": "stream",
     "text": [
      "--- Posílám dotaz do Groq API ---\n",
      "Model odpověděl:\n",
      "Groq API je open-source API pro vyhledávání a analýzu dat, který umožňuje uživatelům dotazovat si na velké množství dat a získat relevantní výsledky v reálném čase. Slouží k automatizaci procesů a zlepšení efektivnosti práce s daty, zejména v oblastech jako jsou business intelligence, data science a machine learning.\n"
     ]
    }
   ],
   "execution_count": 3
  },
  {
   "metadata": {},
   "cell_type": "markdown",
   "source": [
    "## Úkol\n",
    "\n",
    "Naprogramujte vlastní implementaci chatbota. Využijte předchozího příkladu a zkuste vytvořit chatbota, který bude odpovídat na otázky dle vašeho zadání. Můžete například vytvořit chatbota, který bude odpovídat na otázky ohledně vaření.\n",
    "\n",
    "Porovnejte si jak vašeho chatbota ovlivňují parametry jako `temperature` a `max_tokens`, či změna kontextu."
   ],
   "id": "10d587a9c513993a"
  },
  {
   "metadata": {},
   "cell_type": "code",
   "outputs": [],
   "execution_count": null,
   "source": "",
   "id": "32d67704a501cdb6"
  }
 ],
 "metadata": {
  "kernelspec": {
   "display_name": "Python 3",
   "language": "python",
   "name": "python3"
  },
  "language_info": {
   "codemirror_mode": {
    "name": "ipython",
    "version": 2
   },
   "file_extension": ".py",
   "mimetype": "text/x-python",
   "name": "python",
   "nbconvert_exporter": "python",
   "pygments_lexer": "ipython2",
   "version": "2.7.6"
  }
 },
 "nbformat": 4,
 "nbformat_minor": 5
}
